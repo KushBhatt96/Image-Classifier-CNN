{
 "cells": [
  {
   "cell_type": "code",
   "execution_count": 1,
   "metadata": {},
   "outputs": [],
   "source": [
    "import numpy as np\n",
    "import pandas as pd\n",
    "import matplotlib.pyplot as plt"
   ]
  },
  {
   "cell_type": "code",
   "execution_count": 2,
   "metadata": {},
   "outputs": [],
   "source": [
    "# Importing the training set\n",
    "df_train = pd.read_csv('Google_Stock_Price_Train.csv')\n",
    "training_set = df_train.iloc[:,1:2].values"
   ]
  },
  {
   "cell_type": "code",
   "execution_count": 3,
   "metadata": {},
   "outputs": [],
   "source": [
    "# For feature scaling we will be using Normalisation method\n",
    "from sklearn.preprocessing import MinMaxScaler\n",
    "sc = MinMaxScaler(feature_range = (0, 1))      # 0-1 bc all our scaled stock prices will be between that range after normalis.\n",
    "# recommeded to keep the non-scaled training_set so we will create new variable below for scaled prices\n",
    "training_set_scaled = sc.fit_transform(training_set)"
   ]
  },
  {
   "cell_type": "code",
   "execution_count": 4,
   "metadata": {},
   "outputs": [],
   "source": [
    "# Creating a data structure with 60 timesteps and 1 output\n",
    "# 60 timesteps means that at each time t, the RNN is going to look at the stock prices between 60 days before time t and time t\n",
    "# and based on the trends it is capturing from these 60 previous timesteps, it will try to predict the next output (t+1)\n",
    "# Determining the number of timesteps seems to be experimental, and based on the trading style\n",
    "X_train = []\n",
    "y_train = []\n",
    "for i in range(60, training_set_scaled.shape[0]): #have to start at day 60 since each time t must contain its previous 60 price\n",
    "    X_train.append(training_set_scaled[(i-60):i, 0])\n",
    "    y_train.append(training_set_scaled[i, 0])\n",
    "X_train, y_train = np.array(X_train), np.array(y_train)"
   ]
  },
  {
   "cell_type": "code",
   "execution_count": 5,
   "metadata": {},
   "outputs": [],
   "source": [
    "# Reshaping\n",
    "X_train = np.reshape(X_train, (X_train.shape[0], X_train.shape[1], 1))  # change 1 if we have more than 1 indicator"
   ]
  },
  {
   "cell_type": "code",
   "execution_count": 6,
   "metadata": {},
   "outputs": [
    {
     "name": "stderr",
     "output_type": "stream",
     "text": [
      "Using TensorFlow backend.\n"
     ]
    }
   ],
   "source": [
    "# Building the RNN (stacked LSTM architecture)\n",
    "\n",
    "# Importing the Keras libraries and packages\n",
    "from keras.models import Sequential\n",
    "from keras.layers import Dense\n",
    "from keras.layers import LSTM\n",
    "from keras.layers import Dropout"
   ]
  },
  {
   "cell_type": "code",
   "execution_count": 7,
   "metadata": {},
   "outputs": [],
   "source": [
    "# Initializing the RNN as a sequence of layers\n",
    "regressor = Sequential()      # calling it a 'regressor' becausing we are predicting a continuous output/value\n",
    "# Adding the first LSTM layer and some dropout regularization (to prevent over-fitting)\n",
    "regressor.add(LSTM(units = 50, return_sequences = True, input_shape = (X_train.shape[1], 1)))   # arguements: 1. #units(# of LSTM cells/memory units we want in this layer), 2. return sequences: True\n",
    "                        # True --> when are going to add another LSTM layer until we arent adding any more, 3. input_shape -->\n",
    "                        # shape of the X_train (timestep, and indicators, only)\n",
    "regressor.add(Dropout(0.2)) # 0.2 pretty common? --> 20% of neurons will be dropped on each iteration"
   ]
  },
  {
   "cell_type": "code",
   "execution_count": 8,
   "metadata": {},
   "outputs": [],
   "source": [
    "# Adding the second LSTM layer and some dropout regularization\n",
    "regressor.add(LSTM(units = 50, return_sequences = True))\n",
    "regressor.add(Dropout(0.2))\n",
    "\n",
    "# Adding the third LSTM layer and some dropout regularization\n",
    "regressor.add(LSTM(units = 50, return_sequences = True))\n",
    "regressor.add(Dropout(0.2))\n",
    "\n",
    "#Adding the fourth LSTM layer and some dropout regularization\n",
    "regressor.add(LSTM(units = 50, return_sequences = True))\n",
    "regressor.add(Dropout(0.2))\n",
    "\n",
    "# Adding the fifth LSTM layer and some dropout regularization --> not the final layer (output layer is after this)\n",
    "regressor.add(LSTM(units = 50))\n",
    "regressor.add(Dropout(0.2))"
   ]
  },
  {
   "cell_type": "code",
   "execution_count": 9,
   "metadata": {},
   "outputs": [],
   "source": [
    "# Adding the output layer\n",
    "regressor.add(Dense(units = 1))"
   ]
  },
  {
   "cell_type": "code",
   "execution_count": 10,
   "metadata": {},
   "outputs": [],
   "source": [
    "regressor.compile(optimizer = 'adam', loss = 'mean_squared_error')        \n",
    "# we can also try out RMSProp optimizer --> check keras docs\n",
    "# since we are dealing with a cts output --> regression problem --> we must use the mean_squared_error for the loss fcn"
   ]
  },
  {
   "cell_type": "markdown",
   "metadata": {},
   "source": [
    "# Model already trained, skip the following cell"
   ]
  },
  {
   "cell_type": "code",
   "execution_count": null,
   "metadata": {},
   "outputs": [],
   "source": [
    "# Fitting the RNN to the training set\n",
    "regressor.fit(X_train, y_train, epochs = 70, batch_size = 32)      "
   ]
  },
  {
   "cell_type": "markdown",
   "metadata": {},
   "source": [
    "# Trained model is loaded below"
   ]
  },
  {
   "cell_type": "code",
   "execution_count": 11,
   "metadata": {},
   "outputs": [],
   "source": [
    "from keras.models import load_model\n",
    "r = load_model('stock_predictor_70_5LSTMs.h5')"
   ]
  },
  {
   "cell_type": "code",
   "execution_count": 12,
   "metadata": {},
   "outputs": [],
   "source": [
    "# Making the predictions and visualizing the results\n",
    "# Getting the real stock price of 2017\n",
    "df_test = pd.read_csv('Google_Stock_Price_Test.csv')\n",
    "real_stock_price = df_test.iloc[:,1:2].values"
   ]
  },
  {
   "cell_type": "code",
   "execution_count": 13,
   "metadata": {},
   "outputs": [],
   "source": [
    "dataset_total = pd.concat((df_train['Open'], df_test['Open']), axis = 0)\n",
    "inputs = dataset_total[len(dataset_total)-len(df_test)-60:].values\n",
    "inputs = inputs.reshape(-1, 1)\n",
    "inputs = sc.transform(inputs)"
   ]
  },
  {
   "cell_type": "code",
   "execution_count": 14,
   "metadata": {},
   "outputs": [],
   "source": [
    "X_test = []\n",
    "for i in range(60, inputs.shape[0]): #have to start at day 60 since each time t must contain its previous 60 price\n",
    "    X_test.append(inputs[(i-60):i, 0])\n",
    "X_test= np.array(X_test)\n",
    "X_test = np.reshape(X_test, (X_test.shape[0], X_test.shape[1], 1))"
   ]
  },
  {
   "cell_type": "code",
   "execution_count": 15,
   "metadata": {},
   "outputs": [],
   "source": [
    "predicted_stock_price = r.predict(X_test)\n",
    "# Inverse the feature scaling\n",
    "predicted_stock_price = sc.inverse_transform(predicted_stock_price)"
   ]
  },
  {
   "cell_type": "code",
   "execution_count": 16,
   "metadata": {},
   "outputs": [
    {
     "data": {
      "image/png": "[encoded data removed]",
      "text/plain": [
       "<Figure size 576x288 with 1 Axes>"
      ]
     },
     "metadata": {
      "needs_background": "light"
     },
     "output_type": "display_data"
    }
   ],
   "source": [
    "#Visualizing the results\n",
    "df_total = pd.concat((df_train, df_test), axis = 0)\n",
    "plt.figure(figsize=(8,4))\n",
    "plt.style.use('seaborn')\n",
    "plt.plot(df_total.loc[1100:,'Date'], df_total.loc[1100:, 'Open'], color = 'green', label = 'Historical Price')\n",
    "plt.plot(df_test['Date'], real_stock_price, color = 'red', label = 'Real Google Stock Price')\n",
    "plt.plot(df_test['Date'], predicted_stock_price, color = 'blue', label = 'Predicted Google Stock Price')\n",
    "plt.title(\"Google Stock Price Prediction\")\n",
    "plt.xlabel(\"Time\")\n",
    "plt.xticks(df_total.loc[1100:,'Date'].values[::40])    # setting the tick frequency\n",
    "plt.ylabel(\"Stock Price ($)\")\n",
    "plt.legend()\n",
    "plt.show()"
   ]
  }
 ],
 "metadata": {
  "kernelspec": {
   "display_name": "Python 3",
   "language": "python",
   "name": "python3"
  },
  "language_info": {
   "codemirror_mode": {
    "name": "ipython",
    "version": 3
   },
   "file_extension": ".py",
   "mimetype": "text/x-python",
   "name": "python",
   "nbconvert_exporter": "python",
   "pygments_lexer": "ipython3",
   "version": "3.7.4"
  }
 },
 "nbformat": 4,
 "nbformat_minor": 2
}
